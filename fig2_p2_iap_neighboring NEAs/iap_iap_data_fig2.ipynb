version https://git-lfs.github.com/spec/v1
oid sha256:6ca1bc7abcd761d2295a095a57c10ddaf6cc712e09f29771098be0ea48d171fd
size 62663237
