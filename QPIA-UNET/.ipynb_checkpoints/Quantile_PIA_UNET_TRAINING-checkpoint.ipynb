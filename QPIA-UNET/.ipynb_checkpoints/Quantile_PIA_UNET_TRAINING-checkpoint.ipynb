{
 "cells": [
  {
   "cell_type": "code",
   "execution_count": 1,
   "id": "78285749-07bb-4206-b93f-51955517b000",
   "metadata": {
    "scrolled": true
   },
   "outputs": [
    {
     "name": "stderr",
     "output_type": "stream",
     "text": [
      "/usr/lib/python3/dist-packages/scipy/__init__.py:146: UserWarning: A NumPy version >=1.17.3 and <1.25.0 is required for this version of SciPy (detected version 1.25.2\n",
      "  warnings.warn(f\"A NumPy version >={np_minversion} and <{np_maxversion}\"\n"
     ]
    }
   ],
   "source": [
    "import os\n",
    "import sys\n",
    "from pia_unet_quantile import *\n",
    "from constants import *\n",
    "from utils import *\n",
    "from ap import *\n",
    "from plotters_unet_qunatile import *\n",
    "sys.path.append(os. path.join(os.path.dirname(os.getcwd()), 'general/'))\n",
    "from data_loader import *\n",
    "import warnings\n",
    "warnings.filterwarnings(\"ignore\", category=RuntimeWarning)"
   ]
  },
  {
   "cell_type": "code",
   "execution_count": 2,
   "id": "d972865f-3bef-4fb6-9a57-9ab31de66e5c",
   "metadata": {},
   "outputs": [],
   "source": [
    "intras_test,extras_test =data_prep_test (data,trains,raw = False)\n",
    "intras_test_raw,extras_test_raw =data_prep_test (data,tests,raw = True)\n",
    "# getting the apd of trains and test sets\n",
    "intra_trains, extras_train = data_prep_test(data, trains,raw = False,  max_samples=300, limit_keys=trains_with_limits)\n",
    "apd_train =  get_all_apds_multiprocessing(intra_trains.reshape(-1, 8000))\n",
    "apd1 = get_all_apds_multiprocessing((data[(tests[0], 'intra')]).reshape(-1, 8000))\n",
    "apd2 = get_all_apds_multiprocessing((data[(tests[1], 'intra')]).reshape(-1, 8000))\n",
    "apd3 = get_all_apds_multiprocessing((data[(tests[2], 'intra')]).reshape(-1, 8000))\n",
    "actual_apds_list = [apd_train,apd1,apd2,apd3]"
   ]
  },
  {
   "cell_type": "code",
   "execution_count": null,
   "id": "d6539caa-c6ed-41df-83a9-720a392c200a",
   "metadata": {
    "scrolled": true
   },
   "outputs": [
    {
     "name": "stdout",
     "output_type": "stream",
     "text": [
      "(560, 8000) (560, 8000)\n",
      "(1966, 8000) (1966, 8000)\n",
      "cbr1: (None, 8000, 32) 32\n",
      "re1: (None, 8000, 32)\n",
      "cbr2: (None, 1600, 64) 64\n",
      "re2: (None, 1600, 64)\n",
      "cbr3: (None, 320, 96) 96\n",
      "re3: (None, 320, 96)\n",
      "last_layer\n",
      "cbr4: (None, 64, 128) 128\n",
      "re4: (None, 64, 128)\n",
      "(None, 64, 96) x1 on shortcut\n",
      "(None, 64, 96) g1 on g\n",
      "(None, 64, 96) g1_x1\n",
      "(None, 64, 1) psi: conv on psi\n",
      "(None, 320, 1) psi_2 : psi_upsample5\n",
      "(None, 320, 96) x_psi * shortcut\n",
      "pre_co_-3 KerasTensor(type_spec=TensorSpec(shape=(None, 320, 128), dtype=tf.float32, name=None), name='up_sampling1d_1/concat:0', description=\"created by layer 'up_sampling1d_1'\") (None, 64, 128) (None, 320, 96)\n",
      "aft_con-3 (None, 320, 224)\n",
      "cbr-4: (None, 320, 96)\n",
      "upS2 with 5 : (None, 320, 96)\n",
      "(None, 320, 64) x1 on shortcut\n",
      "(None, 320, 64) g1 on g\n",
      "(None, 320, 64) g1_x1\n",
      "(None, 320, 1) psi: conv on psi\n",
      "(None, 1600, 1) psi_2 : psi_upsample5\n",
      "(None, 1600, 64) x_psi * shortcut\n",
      "out_1_at (None, 1600, 64)\n",
      "d5 (None, 1600, 160)\n",
      "cbr-3: (None, 1600, 64)\n",
      "upS3 with 5 : (None, 1600, 64)\n",
      "(None, 1600, 32) x1 on shortcut\n",
      "(None, 1600, 32) g1 on g\n",
      "(None, 1600, 32) g1_x1\n",
      "(None, 1600, 1) psi: conv on psi\n",
      "(None, 8000, 1) psi_2 : psi_upsample5\n",
      "(None, 8000, 32) x_psi * shortcut\n",
      "pre_co_-2 (None, 1600, 64) (None, 8000, 32)\n",
      "aft_con-1 (None, 8000, 32)\n",
      "ph\n",
      "bk-noncom1 (None, 1600, 64)\n",
      "bk-noncom2 (None, 320, 96)\n",
      "bk-noncom3 (None, 64, 128)\n",
      "bk-noncom4 (None, 128)\n",
      "b (None, 128)\n",
      "b_1 (None, 8)\n",
      "a (None, 1, 1)\n",
      "k (None, 1, 1)\n",
      "x KerasTensor(type_spec=TensorSpec(shape=(3,), dtype=tf.int32, name=None), inferred_value=[None, 1, 1], name='tf.compat.v1.shape/Shape:0', description=\"created by layer 'tf.compat.v1.shape'\")\n",
      "v_out2 (None, 8000, 1)\n",
      "dv_tnoq1 (None, 8000, 1)\n",
      "dv2_tnoq1 (None, 8000, 1)\n",
      "onesnoq1 (None, 8000, 1)\n",
      "inv_v (None, 8000, 1) KerasTensor(type_spec=TensorSpec(shape=(None, 8000, 1), dtype=tf.float32, name=None), name='tf.where_1/SelectV2:0', description=\"created by layer 'tf.where_1'\")\n",
      "a_v (None, 8000, 1) KerasTensor(type_spec=TensorSpec(shape=(None, 8000, 1), dtype=tf.float32, name=None), name='a_vnoq1/mul:0', description=\"created by layer 'a_vnoq1'\")\n",
      "term_l1 KerasTensor(type_spec=TensorSpec(shape=(None, 8000, 1), dtype=tf.float32, name=None), name='tl1noq1/mul_2:0', description=\"created by layer 'tl1noq1'\")\n",
      "term_l2 KerasTensor(type_spec=TensorSpec(shape=(None, 8000, 1), dtype=tf.float32, name=None), name='tl2noq1/mul:0', description=\"created by layer 'tl2noq1'\")\n",
      "term_l3 KerasTensor(type_spec=TensorSpec(shape=(None, 8000, 1), dtype=tf.float32, name=None), name='tf.math.truediv_3/truediv:0', description=\"created by layer 'tf.math.truediv_3'\")\n",
      "term_l1 (None, 8000, 1)\n",
      "term_l2 (None, 8000, 1)\n",
      "term_l3 (None, 8000, 1)\n",
      "(None, 8000, 1)\n",
      "a (None, 1, 1)\n",
      "k (None, 1, 1)\n",
      "x KerasTensor(type_spec=TensorSpec(shape=(3,), dtype=tf.int32, name=None), inferred_value=[None, 1, 1], name='tf.compat.v1.shape_10/Shape:0', description=\"created by layer 'tf.compat.v1.shape_10'\")\n",
      "v_out2 (None, 8000, 1)\n",
      "dv_tnoq2 (None, 8000, 1)\n",
      "dv2_tnoq2 (None, 8000, 1)\n",
      "onesnoq2 (None, 8000, 1)\n",
      "inv_v (None, 8000, 1) KerasTensor(type_spec=TensorSpec(shape=(None, 8000, 1), dtype=tf.float32, name=None), name='tf.where_3/SelectV2:0', description=\"created by layer 'tf.where_3'\")\n",
      "a_v (None, 8000, 1) KerasTensor(type_spec=TensorSpec(shape=(None, 8000, 1), dtype=tf.float32, name=None), name='a_vnoq2/mul:0', description=\"created by layer 'a_vnoq2'\")\n",
      "term_l1 KerasTensor(type_spec=TensorSpec(shape=(None, 8000, 1), dtype=tf.float32, name=None), name='tl1noq2/mul_2:0', description=\"created by layer 'tl1noq2'\")\n",
      "term_l2 KerasTensor(type_spec=TensorSpec(shape=(None, 8000, 1), dtype=tf.float32, name=None), name='tl2noq2/mul:0', description=\"created by layer 'tl2noq2'\")\n",
      "term_l3 KerasTensor(type_spec=TensorSpec(shape=(None, 8000, 1), dtype=tf.float32, name=None), name='tf.math.truediv_7/truediv:0', description=\"created by layer 'tf.math.truediv_7'\")\n",
      "term_l1 (None, 8000, 1)\n",
      "term_l2 (None, 8000, 1)\n",
      "term_l3 (None, 8000, 1)\n",
      "(None, 8000, 1)\n",
      "a (None, 1, 1)\n",
      "k (None, 1, 1)\n",
      "x KerasTensor(type_spec=TensorSpec(shape=(3,), dtype=tf.int32, name=None), inferred_value=[None, 1, 1], name='tf.compat.v1.shape_20/Shape:0', description=\"created by layer 'tf.compat.v1.shape_20'\")\n",
      "v_out2 (None, 8000, 1)\n",
      "dv_tnoq3 (None, 8000, 1)\n",
      "dv2_tnoq3 (None, 8000, 1)\n",
      "onesnoq3 (None, 8000, 1)\n",
      "inv_v (None, 8000, 1) KerasTensor(type_spec=TensorSpec(shape=(None, 8000, 1), dtype=tf.float32, name=None), name='tf.where_5/SelectV2:0', description=\"created by layer 'tf.where_5'\")\n",
      "a_v (None, 8000, 1) KerasTensor(type_spec=TensorSpec(shape=(None, 8000, 1), dtype=tf.float32, name=None), name='a_vnoq3/mul:0', description=\"created by layer 'a_vnoq3'\")\n",
      "term_l1 KerasTensor(type_spec=TensorSpec(shape=(None, 8000, 1), dtype=tf.float32, name=None), name='tl1noq3/mul_2:0', description=\"created by layer 'tl1noq3'\")\n",
      "term_l2 KerasTensor(type_spec=TensorSpec(shape=(None, 8000, 1), dtype=tf.float32, name=None), name='tl2noq3/mul:0', description=\"created by layer 'tl2noq3'\")\n",
      "term_l3 KerasTensor(type_spec=TensorSpec(shape=(None, 8000, 1), dtype=tf.float32, name=None), name='tf.math.truediv_11/truediv:0', description=\"created by layer 'tf.math.truediv_11'\")\n",
      "term_l1 (None, 8000, 1)\n",
      "term_l2 (None, 8000, 1)\n",
      "term_l3 (None, 8000, 1)\n",
      "(None, 8000, 1)\n",
      "train_target1 shape: (1966, 8000)\n",
      "dummy_train_ode shape: (1966, 7700, 1)\n",
      "dummy_train_dv shape: (1966, 8000, 1)\n",
      "dummy_train_sc shape: (1966, 1)\n",
      "val_target1 shape: (560, 8000)\n",
      "dummy_val_ode shape: (560, 7700, 1)\n",
      "dummy_val_dv shape: (560, 8000, 1)\n",
      "dummy_val_sc shape: (560, 1)\n",
      "Epoch 1/150\n"
     ]
    }
   ],
   "source": [
    "loc = 'results/'\n",
    "physics = True\n",
    "UNET_HYPERPARAMS_quantile['physics']=physics\n",
    "UNET_HYPERPARAMS_quantile['loss_data_q1']= quantile_loss(0.05)\n",
    "UNET_HYPERPARAMS_quantile['loss_data_q2']= quantile_loss(0.5)\n",
    "UNET_HYPERPARAMS_quantile['loss_data_q3']= quantile_loss(0.95)\n",
    "model = train_and_save_model_quantile(UNET_HYPERPARAMS_quantile,loc, data, trains, tests, extras_test, intras_test,trains_with_limits,max_samples)"
   ]
  },
  {
   "cell_type": "code",
   "execution_count": null,
   "id": "d66679d1-b42b-4991-b270-4929c1823e1e",
   "metadata": {},
   "outputs": [],
   "source": []
  }
 ],
 "metadata": {
  "kernelspec": {
   "display_name": "Python 3 (ipykernel)",
   "language": "python",
   "name": "python3"
  },
  "language_info": {
   "codemirror_mode": {
    "name": "ipython",
    "version": 3
   },
   "file_extension": ".py",
   "mimetype": "text/x-python",
   "name": "python",
   "nbconvert_exporter": "python",
   "pygments_lexer": "ipython3",
   "version": "3.10.12"
  }
 },
 "nbformat": 4,
 "nbformat_minor": 5
}
