{
 "cells": [
  {
   "cell_type": "code",
   "execution_count": null,
   "id": "78285749-07bb-4206-b93f-51955517b000",
   "metadata": {
    "scrolled": true
   },
   "outputs": [],
   "source": [
    "import os\n",
    "import sys\n",
    "from pia_unet import *\n",
    "from constants import *\n",
    "from utils import *\n",
    "from ap import *\n",
    "from plotters_unet import *\n",
    "sys.path.append(os. path.join(os.path.dirname(os.getcwd()), 'general/'))\n",
    "from data_loader import *\n",
    "import warnings\n",
    "warnings.filterwarnings(\"ignore\", category=RuntimeWarning)"
   ]
  },
  {
   "cell_type": "code",
   "execution_count": null,
   "id": "d6539caa-c6ed-41df-83a9-720a392c200a",
   "metadata": {
    "scrolled": true
   },
   "outputs": [],
   "source": [
    "intras_test,extras_test =data_prep_test (data,trains,raw = False)\n",
    "intra_trains, extras_train = data_prep_test(data, trains,raw = False,  max_samples=300, limit_keys=trains_with_limits)\n",
    "apd_train =  get_all_apds_multiprocessing(intra_trains.reshape(-1, 8000))\n",
    "apd1 = get_all_apds_multiprocessing((data[(tests[0], 'intra')]).reshape(-1, 8000))\n",
    "apd2 = get_all_apds_multiprocessing((data[(tests[1], 'intra')]).reshape(-1, 8000))\n",
    "apd3 = get_all_apds_multiprocessing((data[(tests[2], 'intra')]).reshape(-1, 8000))\n",
    "actual_apds_list = [apd_train,apd1,apd2,apd3]"
   ]
  },
  {
   "cell_type": "code",
   "execution_count": null,
   "id": "d66679d1-b42b-4991-b270-4929c1823e1e",
   "metadata": {},
   "outputs": [],
   "source": [
    "loc = 'saved_models/'\n",
    "# physics = True\n",
    "# UNET_HYPERPARAMS['physics']=physics\n",
    "# trained_model = train_and_save_model(UNET_HYPERPARAMS, loc, data, trains, tests, extras_test, intras_test,trains_with_limits, max_samples)\n",
    "models_list = glob.glob(loc+'/*.h5')"
   ]
  },
  {
   "cell_type": "code",
   "execution_count": null,
   "id": "a4cfefb5-cc14-4248-81aa-b340e8a52941",
   "metadata": {},
   "outputs": [],
   "source": [
    "df_performance = run_model_performance(models_list, extras_train, intra_trains, tests, data, actual_apds_list, loc)"
   ]
  },
  {
   "cell_type": "code",
   "execution_count": null,
   "id": "99796a41-7f22-4e4f-b8f9-35000fa3a7b8",
   "metadata": {},
   "outputs": [],
   "source": []
  }
 ],
 "metadata": {
  "kernelspec": {
   "display_name": "Python 3 (ipykernel)",
   "language": "python",
   "name": "python3"
  },
  "language_info": {
   "codemirror_mode": {
    "name": "ipython",
    "version": 3
   },
   "file_extension": ".py",
   "mimetype": "text/x-python",
   "name": "python",
   "nbconvert_exporter": "python",
   "pygments_lexer": "ipython3",
   "version": "3.10.12"
  }
 },
 "nbformat": 4,
 "nbformat_minor": 5
}
