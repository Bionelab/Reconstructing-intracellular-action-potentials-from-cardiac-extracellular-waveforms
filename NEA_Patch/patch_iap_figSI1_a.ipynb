{
 "cells": [
  {
   "cell_type": "code",
   "execution_count": null,
   "id": "97fb2e9b-8cfe-4c28-9036-fc6d6d71a0ce",
   "metadata": {
    "tags": []
   },
   "outputs": [],
   "source": [
    "import os\n",
    "import pickle\n",
    "from utils import *\n",
    "from peak_finder import *\n",
    "from load_patch_nea_iaps import *\n",
    "from constants import *\n",
    "from error_plots import *"
   ]
  },
  {
   "cell_type": "code",
   "execution_count": null,
   "id": "9e7ea5dc-5d47-4eba-9b99-272c0ad868f8",
   "metadata": {
    "tags": []
   },
   "outputs": [],
   "source": [
    "# get the list of nea data, their corresponding patch data, and the file names\n",
    "n_data, p_data, rec_names = load_data('content/')"
   ]
  },
  {
   "cell_type": "code",
   "execution_count": null,
   "id": "90c233c9-2850-469f-9adc-113da5fc4d08",
   "metadata": {
    "scrolled": true,
    "tags": []
   },
   "outputs": [],
   "source": [
    "# get patch and nea data segmented in windows, and df as dataframe showing errors\n",
    "# takes few minutes\n",
    "dic_patch_nea, df =  patch_nea_dic_df (p_data,n_data,rec_names)"
   ]
  },
  {
   "cell_type": "code",
   "execution_count": null,
   "id": "bccf2501-f881-4ac2-85bf-71456763f588",
   "metadata": {
    "tags": []
   },
   "outputs": [],
   "source": [
    "times = 0\n",
    "for i in df.index.unique():\n",
    "    df_ = df.loc[i]['t_na']\n",
    "    times = times+df_.iloc[-1]-df_.iloc[0]\n",
    "print(times/60)"
   ]
  },
  {
   "cell_type": "code",
   "execution_count": null,
   "id": "87c501cb-117a-4417-aaff-f8aa29e69b1b",
   "metadata": {
    "tags": []
   },
   "outputs": [],
   "source": [
    "n = 0\n",
    "plt.figure(figsize = (20,2))\n",
    "plt.plot(np.arange(0,len(p_data[n]))/10000,p_data[n].tolist())\n",
    "n_resampled = signal.resample_poly(n_data[n]/1000, up=2, down=1) \n",
    "plt.plot(np.arange(0,len(n_resampled))/10000,n_resampled)\n",
    "plt.ylabel('Voltage (mv)')\n",
    "plt.xlabel('Time (s)')"
   ]
  },
  {
   "cell_type": "code",
   "execution_count": null,
   "id": "b94340a6-7ff2-4b7e-9dfe-231efd8c3f2c",
   "metadata": {},
   "outputs": [],
   "source": [
    "plot_errors_for_one_sample?"
   ]
  },
  {
   "cell_type": "code",
   "execution_count": null,
   "id": "4d73e944-67bb-4cc5-b800-3c11515787ac",
   "metadata": {
    "tags": []
   },
   "outputs": [],
   "source": [
    "# plotting errors for rec1\n",
    "plot_errors_for_one_sample(df.loc['n1'])"
   ]
  },
  {
   "cell_type": "code",
   "execution_count": null,
   "id": "f1b49473-4fb6-4e2e-9788-c4fcab013355",
   "metadata": {
    "tags": []
   },
   "outputs": [],
   "source": [
    "cylce_overlay(df.loc['n1'])"
   ]
  },
  {
   "cell_type": "code",
   "execution_count": null,
   "id": "47001a4b-7649-43db-a5ed-574372ec1f4a",
   "metadata": {
    "tags": []
   },
   "outputs": [],
   "source": [
    "apds_overlay(df.loc['n1'])"
   ]
  },
  {
   "cell_type": "code",
   "execution_count": null,
   "id": "b79681f5-67d2-4a6c-b020-e620adfaa853",
   "metadata": {
    "tags": []
   },
   "outputs": [],
   "source": [
    "df2 = df[df['sn_min']>30]\n",
    "# Setting a style\n",
    "sns.set(style=\"whitegrid\")\n",
    "norm = Normalize(vmin=df2['sn_max'].min(), vmax=df2['sn_max'].max())\n",
    "\n",
    "cmap = sns.color_palette(\"coolwarm\", as_cmap=True)\n",
    "\n",
    "fig, axs = plt.subplots(1, 3, figsize=(10, 3), dpi =350)  # Adjust the figure size as needed\n",
    "\n",
    "# Applying color mapping to each scatter plot\n",
    "for i, (y, title) in enumerate(zip(['MAEa', 'APD_PErrora5', 'APD_PErrora9',\n",
    "                                    # 'R2a','dt_npa'\n",
    "                                   ],\n",
    "                                   ['MAEa vs. sn_min', 'APD_PErrora5 vs. sn_min', 'APD_PErrora9 vs. sn_min', 'R2a vs. sn_min','dt_npa vs. sn_min'])):\n",
    "    scatter_colors = cmap(norm(df2['sn_max']))\n",
    "    axs[i].scatter(df2['sn_min'], df2[y], color='black', edgecolor=None, s=5, alpha=0.6)\n",
    "    axs[i].axvline(x=45, color='g', linestyle='--')  # Vertical line at sn_min = 45\n",
    "    if y in ['MAEa']:\n",
    "        axs[i].axhline(y=0.05, color='r', linestyle='--')  # Horizontal line at MAEa = 0.1\n",
    "    elif y in ['APD_PErrora5', 'APD_PErrora9']:\n",
    "        axs[i].axhline(y=10, color='r', linestyle='--')  # Horizontal line at APD_PErrora5 and APD_PErrora9 = 10\n",
    "    elif y in ['R2a']:\n",
    "        axs[i].axhline(y=0.98, color='r', linestyle='--')  # Horizontal line at APD_PErrora5 and APD_PErrora9 = 10\n",
    "    axs[i].set_xlabel('sn_min', fontsize=12)\n",
    "    axs[i].set_ylabel(y, fontsize=12)\n",
    "\n",
    "# Adjusting layout and aesthetics\n",
    "plt.tight_layout()\n",
    "\n",
    "plt.savefig('sn_errors.svg', format='svg')\n",
    "plt.show()\n"
   ]
  },
  {
   "cell_type": "code",
   "execution_count": null,
   "id": "5813fe73-04ab-4d4b-87e7-10bec1e82299",
   "metadata": {
    "tags": []
   },
   "outputs": [],
   "source": [
    "norm = Normalize(vmin=df['sn_max'].min(), vmax=df['sn_max'].max())\n",
    "sns.set(style=\"whitegrid\")\n",
    "\n",
    "fig, axs = plt.subplots(1, 5, figsize=(15, 3), dpi=350)  # Adjust the figure size as needed\n",
    "\n",
    "for i, (y, title) in enumerate(zip(['MAEa', 'APD_PErrora5', 'APD_PErrora9', 'R2a', 'dt_npa'],\n",
    "                                   ['MAEa vs. sn_min', 'APD_PErrora5 vs. sn_min', 'APD_PErrora9 vs. sn_min', 'R2a vs. sn_min', 'dt_npa vs. sn_min'])):\n",
    "    scatter_colors = cmap(norm(df['sn_max']))\n",
    "    axs[i].scatter(df['sn_min'], df[y], color='black', edgecolor=None, s=5, alpha=0.6)\n",
    "    axs[i].axvline(x=45, color='g', linestyle='--')  # Vertical line at sn_min = 45\n",
    "    if y == 'MAEa':\n",
    "        axs[i].axhline(y=0.05, color='r', linestyle='--')  # Horizontal line at MAEa = 0.1\n",
    "    elif y in ['APD_PErrora5', 'APD_PErrora9']:\n",
    "        axs[i].axhline(y=10, color='r', linestyle='--')  # Horizontal line at APD_PErrora5 and APD_PErrora9 = 10\n",
    "    elif y == 'R2a':\n",
    "        axs[i].axhline(y=0.98, color='r', linestyle='--')  # Horizontal line at R2a = 0.98\n",
    "    axs[i].set_xlabel('sn_min', fontsize=15)\n",
    "    axs[i].set_ylabel(y, fontsize=15)\n",
    "    axs[i].tick_params(axis='both', which='major', labelsize=11)\n",
    "\n",
    "# Adjusting layout and aesthetics\n",
    "plt.tight_layout()\n",
    "\n",
    "plt.savefig('SI_sn_errors.svg', format='svg')  # Save to the data folder\n",
    "plt.show()\n"
   ]
  },
  {
   "cell_type": "code",
   "execution_count": null,
   "id": "3b9971c7-7a6f-41fc-adaa-bb4d8fbbbbc7",
   "metadata": {
    "tags": []
   },
   "outputs": [],
   "source": [
    "# #MAE\n",
    "df2= df[(df['patch_sn_powera']>45)&(df['nea_sn_powera']>45)][['index','MAEa','dt_npa','sn_min','APD_PErrora5','APD_PErrora9','R2a',]]\n",
    "display(df[df['index']=='n17_68'][['index','MAEa','dt_npa','sn_min','APD_PErrora5','APD_PErrora9','R2a',]])\n",
    "plt.grid(False)\n",
    "plt.plot(function1_min_0(dic_patch_nea['n17_68','a','p']), color = 'black')\n",
    "plt.plot(function1_min_0(dic_patch_nea['n17_68','a','n']), color = 'red')\n",
    "plt.savefig('n17_68_MAE_B.svg', format='svg')\n",
    "plt.show()\n",
    "display(df[df['index']=='n8_184'][['index','MAEa','dt_npa','sn_min','APD_PErrora5','APD_PErrora9','R2a',]])\n",
    "plt.grid(False)\n",
    "plt.grid(False)\n",
    "plt.plot(function1_min_0(dic_patch_nea['n8_184','a','p']), color = 'black')\n",
    "plt.plot(function1_min_0(dic_patch_nea['n8_184','a','n']), color = 'red')\n"
   ]
  },
  {
   "cell_type": "code",
   "execution_count": null,
   "id": "5cad9a68-8f1d-4b15-a58b-e9c0b304002e",
   "metadata": {
    "tags": []
   },
   "outputs": [],
   "source": [
    "df2= df[(df['patch_sn_powera']>45)&(df['nea_sn_powera']>45)][['index','MAEa','dt_npa','sn_min','APD_PErrora5','APD_PErrora9','R2a',]]\n",
    "display(df[df['index']=='n16_65'][['index','MAEa','dt_npa','sn_min','APD_PErrora5','APD_PErrora9','R2a',]])\n",
    "plt.grid(False)\n",
    "plt.plot(function1_min_0(dic_patch_nea['n17_44','a','p']), color = 'black')\n",
    "plt.plot(function1_min_0(dic_patch_nea['n17_44','a','n']), color = 'red')\n",
    "plt.savefig('n17_44_APD5_B.svg', format='svg')\n",
    "plt.show()\n",
    "display(df2[df2['index']=='n6_106'])\n",
    "plt.grid(False)\n",
    "plt.grid(False)\n",
    "plt.plot(function1_min_0(dic_patch_nea['n6_106','a','p']), color = 'black')\n",
    "plt.plot(function1_min_0(dic_patch_nea['n6_106','a','n']), color = 'red')\n",
    "plt.savefig('n6_106_APD5_G.svg', format='svg')"
   ]
  },
  {
   "cell_type": "code",
   "execution_count": null,
   "id": "5e040879-8043-4fd1-bc3d-045743425eb8",
   "metadata": {
    "tags": []
   },
   "outputs": [],
   "source": [
    "\n",
    "df2= df[(df['patch_sn_powera']>45)&(df['nea_sn_powera']>45)][['index','MAEa','dt_npa','sn_min','APD_PErrora5','APD_PErrora9','R2a',]]\n",
    "display(df[df['index']=='n16_66'][['index','MAEa','dt_npa','sn_min','APD_PErrora5','APD_PErrora9','R2a',]])\n",
    "plt.grid(False)\n",
    "plt.plot(function1_min_0(dic_patch_nea['n16_66','a','p']), color = 'black')\n",
    "plt.plot(function1_min_0(dic_patch_nea['n16_66','a','n']), color = 'red')\n",
    "plt.show()\n",
    "display(df2[df2['index']=='n8_224'])\n",
    "plt.grid(False)\n",
    "plt.grid(False)\n",
    "plt.plot(function1_min_0(dic_patch_nea['n8_224','a','p']), color = 'black')\n",
    "plt.plot(function1_min_0(dic_patch_nea['n8_224','a','n']), color = 'red')"
   ]
  },
  {
   "cell_type": "code",
   "execution_count": null,
   "id": "fc0bb1ab-2d00-4d4d-9c9e-ecb8037f9ecf",
   "metadata": {
    "tags": []
   },
   "outputs": [],
   "source": [
    "# Assuming df2 is already prepared with the required filters\n",
    "columns_to_plot = ['dt_npa', 'R2a','MAEa',  'APD_PErrora5', 'APD_PErrora9',]\n",
    "box_plot_comparison(df2,columns_to_plot)"
   ]
  },
  {
   "cell_type": "code",
   "execution_count": null,
   "id": "4843c591-6615-4ee6-855c-f73835a90a17",
   "metadata": {
    "tags": []
   },
   "outputs": [],
   "source": [
    "# before screening\n",
    "df4 = df.copy()\n",
    "colll=['dt_npa','sn_min','APD_Errora5','APD_Errora9',\n",
    "       'APD_PErrora5','APD_PErrora9','R2a','MAEa',]\n",
    "\n",
    "for i in colll:\n",
    "    print(i)\n",
    "    print('MEAN:',round(df4[i].mean(),3))\n",
    "    print('STD:',round(df4[i].std(),3))"
   ]
  },
  {
   "cell_type": "code",
   "execution_count": null,
   "id": "f90581ee-f166-453c-b666-86c64e8e2280",
   "metadata": {
    "tags": []
   },
   "outputs": [],
   "source": [
    "# after screening\n",
    "df4 = df[df['sn_min']>45].copy()\n",
    "colll=['dt_npa','sn_min','APD_Errora5','APD_Errora9',\n",
    "       'APD_PErrora5','APD_PErrora9','R2a','MAEa',]\n",
    "\n",
    "for i in colll:\n",
    "    print(i)\n",
    "    print('MEAN:',round(df4[i].mean(),3))\n",
    "    print('STD:',round(df4[i].std(),3))"
   ]
  },
  {
   "cell_type": "code",
   "execution_count": null,
   "id": "54af7d1d-7034-4001-ac23-994a1d037212",
   "metadata": {
    "tags": []
   },
   "outputs": [],
   "source": [
    "def plot_cols2(df2, col, col3='sn_a_min',name_='raw', min_group_size=10):\n",
    "    fig, ax = plt.subplots(figsize=(6, 2), dpi=250)\n",
    "    group_sizes = df2.groupby(df2.index).size()\n",
    "    sorted_indices = group_sizes.sort_values(ascending=False).index\n",
    "    sorted_df2 = pd.concat([df2.loc[idx] for idx in sorted_indices])\n",
    "    grouped = sorted_df2.groupby(sorted_df2.index)\n",
    "    sorted_grouped = sorted(grouped, key=lambda x: len(x[1]), reverse=True)\n",
    "    filtered_grouped = [(name, group) for name, group in sorted_grouped if len(group) >= min_group_size]\n",
    "\n",
    "    ax2 = ax.twinx()\n",
    "    median_x = []\n",
    "    median_y = []\n",
    "    sem_y = []\n",
    "\n",
    "    for i, (group_name, group_data) in enumerate(filtered_grouped):\n",
    "        # Box plot\n",
    "        bp = ax.boxplot(group_data[col], positions=[i+1], widths=0.8, vert=True, patch_artist=True, showfliers=False)\n",
    "\n",
    "        for box in bp['boxes']:\n",
    "            box.set_visible(False)\n",
    "        for whisker in bp['whiskers']:\n",
    "            whisker.set_visible(False)\n",
    "        for cap in bp['caps']:\n",
    "            cap.set_visible(False)\n",
    "        for median in bp['medians']:\n",
    "            median.set(color='red', linewidth=0.7)\n",
    "\n",
    "        # Jittered scatter over box plot\n",
    "        jitter = 0.7 * (np.random.rand(len(group_data[col])) - 0.5)\n",
    "        ax.scatter(np.ones(len(group_data[col])) * (i+1) + jitter, group_data[col], alpha=0.5, color='black', s=0.3)\n",
    "\n",
    "        # Get median of col3 and append to list\n",
    "        median_col3 = group_data[col3].median()\n",
    "        median_x.append(i+1)\n",
    "        median_y.append(median_col3)\n",
    "\n",
    "        sem_col3 = group_data[col3].std() / np.sqrt(len(group_data[col3]))\n",
    "        sem_y.append(sem_col3)\n",
    "\n",
    "    # Scatter plot for median col3 values with error bars\n",
    "    ax2.errorbar(median_x, median_y, yerr=sem_y, fmt='o', color='blue', label=f'Median {col3}', markersize=1, marker='.', linestyle='dotted', linewidth=0.3, capsize=2)\n",
    "    ax2.scatter(median_x, median_y, color='blue', s=1, marker='.')\n",
    "    ax2.plot(median_x, median_y, color='blue', linestyle='dotted', linewidth=0.3)\n",
    "    ax2.set_ylabel(col3, color='blue')\n",
    "    ax2.tick_params(axis='y', colors='blue')\n",
    "\n",
    "    # Set xticks and labels\n",
    "    # ax.set_xticks(range(1, len(filtered_grouped) + 1))\n",
    "    ax.set_xticklabels([group[0].split('_')[0] for group in filtered_grouped], rotation=45, ha='right')\n",
    "    # ax.set_xticks(range(1, len(filtered_grouped) + 1))\n",
    "    # ax.set_xticklabels([f'rec{i+1}' for i in range(len(filtered_grouped))], rotation=45, ha='right')\n",
    "\n",
    "    ax.spines['top'].set_visible(False)\n",
    "    ax.spines['bottom'].set_visible(False)\n",
    "    ax2.spines['top'].set_visible(False)\n",
    "    ax.grid(False)\n",
    "    ax2.grid(False)\n",
    "\n",
    "    fig.savefig(name_+col+'_box'+\".svg\", format='svg')\n",
    "    plt.show()"
   ]
  },
  {
   "cell_type": "code",
   "execution_count": null,
   "id": "5d08de10-470f-4584-b493-15168085299e",
   "metadata": {
    "scrolled": true,
    "tags": []
   },
   "outputs": [],
   "source": [
    "df4 = df.copy()\n",
    "df_s = df[df['sn_min']>45].copy()\n",
    "col3 = 'sn_min'\n",
    "for i in ['dt_npa','APD_PErrora5', 'APD_PErrora9','APD_Errora5','APD_Errora9','R2a','MAEa',]:\n",
    "        print(i)\n",
    "        plot_cols2(df4, i,col3,name_ = 'raw')\n",
    "        plot_cols2(df_s, i,col3,name_ = 'screened')\n",
    "        \n"
   ]
  },
  {
   "cell_type": "code",
   "execution_count": null,
   "id": "11b78555-933c-41bf-bff6-b52a9cfb132e",
   "metadata": {},
   "outputs": [],
   "source": []
  }
 ],
 "metadata": {
  "kernelspec": {
   "display_name": "Python 3 (ipykernel)",
   "language": "python",
   "name": "python3"
  },
  "language_info": {
   "codemirror_mode": {
    "name": "ipython",
    "version": 3
   },
   "file_extension": ".py",
   "mimetype": "text/x-python",
   "name": "python",
   "nbconvert_exporter": "python",
   "pygments_lexer": "ipython3",
   "version": "3.10.12"
  }
 },
 "nbformat": 4,
 "nbformat_minor": 5
}
