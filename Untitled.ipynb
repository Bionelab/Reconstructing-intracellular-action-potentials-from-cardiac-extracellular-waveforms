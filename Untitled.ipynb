{
 "cells": [
  {
   "cell_type": "code",
   "execution_count": 1,
   "id": "911a235d-09d6-4e88-89c1-da18f464a1f2",
   "metadata": {},
   "outputs": [
    {
     "name": "stdout",
     "output_type": "stream",
     "text": [
      "keras: 2.13.1\n",
      "tensorflow: 2.13.1\n",
      "pandas: 1.3.5\n",
      "numpy: 1.25.2\n",
      "scipy: 1.8.0\n",
      "python is not installed.\n",
      "shap: 0.46.0\n",
      "xgboost: 2.1.1\n",
      "optuna: 4.0.0\n",
      "fastdtw is not installed.\n",
      "jenkspy: 0.4.1\n",
      "gdown: 5.2.0\n",
      "pyabf: 2.3.8\n",
      "requirements.txt has been created with the required versions.\n"
     ]
    },
    {
     "name": "stderr",
     "output_type": "stream",
     "text": [
      "/usr/lib/python3/dist-packages/pkg_resources/__init__.py:116: PkgResourcesDeprecationWarning: 1.12.1-git20200711.33e2d80-dfsg1-0.6 is an invalid version and will not be supported in a future release\n",
      "  warnings.warn(\n"
     ]
    }
   ],
   "source": [
    "import subprocess\n",
    "import pkg_resources\n",
    "\n",
    "# List of packages to check versions\n",
    "libraries = [\n",
    "    'keras', 'tensorflow', 'pandas', 'numpy', 'scipy', 'python', 'shap', \n",
    "    'xgboost', 'optuna', 'fastdtw', 'jenkspy', 'gdown', 'pyabf'\n",
    "\n",
    "]\n",
    "\n",
    "# Dictionary to store package versions\n",
    "versions = {}\n",
    "\n",
    "# Try to get the version of each library\n",
    "for lib in libraries:\n",
    "    try:\n",
    "        version = pkg_resources.get_distribution(lib).version\n",
    "        versions[lib] = version\n",
    "        print(f\"{lib}: {version}\")\n",
    "    except pkg_resources.DistributionNotFound:\n",
    "        print(f\"{lib} is not installed.\")\n",
    "    except Exception as e:\n",
    "        print(f\"Error checking {lib}: {e}\")\n",
    "\n",
    "# Generate the requirements.txt file with the correct versions\n",
    "with open('requirements.txt', 'w') as f:\n",
    "    for lib, version in versions.items():\n",
    "        if lib == 'python':\n",
    "            # Add Python version manually\n",
    "            f.write(f\"{lib}=={version}\\n\")\n",
    "        else:\n",
    "            f.write(f\"{lib}=={version}\\n\")\n",
    "\n",
    "print(\"requirements.txt has been created with the required versions.\")\n"
   ]
  },
  {
   "cell_type": "code",
   "execution_count": null,
   "id": "5c90d477-9823-410b-8516-b216af4a1063",
   "metadata": {},
   "outputs": [],
   "source": []
  }
 ],
 "metadata": {
  "kernelspec": {
   "display_name": "Python 3 (ipykernel)",
   "language": "python",
   "name": "python3"
  },
  "language_info": {
   "codemirror_mode": {
    "name": "ipython",
    "version": 3
   },
   "file_extension": ".py",
   "mimetype": "text/x-python",
   "name": "python",
   "nbconvert_exporter": "python",
   "pygments_lexer": "ipython3",
   "version": "3.10.12"
  }
 },
 "nbformat": 4,
 "nbformat_minor": 5
}
